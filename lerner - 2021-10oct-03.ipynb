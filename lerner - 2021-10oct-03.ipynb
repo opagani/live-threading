{
 "cells": [
  {
   "cell_type": "markdown",
   "metadata": {},
   "source": [
    "# Agenda\n",
    "\n",
    "1. Concurrency and parallelism in programming in general, and Python in particular\n",
    "2. Basic threads\n",
    "3. Joining threads\n",
    "4. Switching threads and the GIL\n",
    "5. Sharing data (and other resources)\n",
    "6. Producer-consumer \n",
    "7. Events and timers\n",
    "8. Multiprocessing\n",
    "9. `concurrent.futures` and making life easier for ourselves"
   ]
  }
 ],
 "metadata": {
  "kernelspec": {
   "display_name": "Python 3",
   "language": "python",
   "name": "python3"
  },
  "language_info": {
   "codemirror_mode": {
    "name": "ipython",
    "version": 3
   },
   "file_extension": ".py",
   "mimetype": "text/x-python",
   "name": "python",
   "nbconvert_exporter": "python",
   "pygments_lexer": "ipython3",
   "version": "3.9.7"
  }
 },
 "nbformat": 4,
 "nbformat_minor": 4
}
