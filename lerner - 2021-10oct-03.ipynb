{
 "cells": [
  {
   "cell_type": "markdown",
   "metadata": {},
   "source": [
    "# Agenda\n",
    "\n",
    "1. Concurrency and parallelism in programming in general, and Python in particular\n",
    "2. Basic threads\n",
    "3. Joining threads\n",
    "4. Switching threads and the GIL\n",
    "5. Sharing data (and other resources)\n",
    "6. Producer-consumer \n",
    "7. Events and timers\n",
    "8. Multiprocessing\n",
    "9. `concurrent.futures` and making life easier for ourselves"
   ]
  },
  {
   "cell_type": "markdown",
   "metadata": {},
   "source": [
    "# Concurrency and parallelism in Python\n",
    "\n",
    "- Concurency means: I have several things that I want to be tracking at once, even if they're not necessarily executing at once.\n",
    "- Parallelism means: I have several things that I want to be tracking at once, *AND* they should also be executing at once.\n",
    "\n",
    "If you want true parallel execution on a computer, then you need multiple cores (processors).  But you'll probably have more processes running than cores anyway, which means that the computer needs to keep track of each process, swapping it in and out of memory to the CPUs.\n",
    "\n",
    "How can we have multiple things happen in our program, so that we can break a problem apart and deal with it using concurrency?\n",
    "- The oldest, and most traditional, way is to use *processes*.  The good news is that each process runs separately, with its own memory, and is independent of other processes.  This means that the computer can decide which core runs which process, and when.  The problem is that there's a lot of overhead to that -- it takes more memory, and switching requires more time + resources.\n",
    "- A newer way to do things is *threads*.  If your OS runs multiple processes, then your process can contain multiple threads. The idea is that the OS tells a process that it now has a chance to run, and then inside of that process, each thread gets a chance to run.  The advantage of threads is that they're much lighter weight, and thus it's easier to switch between them.  Plus, because they are in the same process, they can share memory.\n",
    "\n",
    "Threads weren't ever popular in the Unix world.  But they became super popular among Windows programmers and in the Java world.  The combination forced Unix people to admit that maybe threads aren't that bad."
   ]
  },
  {
   "cell_type": "markdown",
   "metadata": {},
   "source": [
    "# Simple example of threads\n",
    "\n",
    "To use threads in Python, we need:\n",
    "\n",
    "- the `threading` module\n",
    "- a function we want to run in a thread (i.e., not serially, but in parallel with the \"main thread\")\n"
   ]
  },
  {
   "cell_type": "code",
   "execution_count": 3,
   "metadata": {},
   "outputs": [
    {
     "name": "stdout",
     "output_type": "stream",
     "text": [
      "Hello!\n",
      "Hello!\n",
      "Hello!\n",
      "Hello!\n",
      "Hello!\n"
     ]
    }
   ],
   "source": [
    "# let's run the function serially -- meaning, our Python interpreter will consist of \n",
    "# one process and one thread.  It'll run our function 5 times.\n",
    "\n",
    "def hello():\n",
    "    print('Hello!')\n",
    "    \n",
    "for i in range(5):\n",
    "    hello()"
   ]
  },
  {
   "cell_type": "code",
   "execution_count": 5,
   "metadata": {},
   "outputs": [],
   "source": [
    "# now let's run our function 5 times, but each time we do that, we're going to \n",
    "# do so inside of a new thread.\n",
    "\n",
    "# Meaning: We're not going to run the function ourselves, directly.  We're going to\n",
    "# create a new Thread object, and hand it the function we want to run.  The \n",
    "# Thread object will run the function on our behalf inside of a new thread\n"
   ]
  },
  {
   "cell_type": "code",
   "execution_count": 6,
   "metadata": {},
   "outputs": [
    {
     "name": "stdout",
     "output_type": "stream",
     "text": [
      "Hello!\n"
     ]
    }
   ],
   "source": [
    "import threading     # the module we need to work with threads\n",
    "\n",
    "def hello():\n",
    "    print('Hello!')\n",
    "\n",
    "t = threading.Thread(target=hello)    # the function \"hello\" is the argument we pass to \"target\"\n",
    "t.start()                             # ask t to run our function in a new thread"
   ]
  },
  {
   "cell_type": "code",
   "execution_count": 12,
   "metadata": {},
   "outputs": [
    {
     "name": "stdout",
     "output_type": "stream",
     "text": [
      "Hello!\n",
      "Hello!\n",
      "Hello!\n",
      "Hello!\n",
      "Hello!\n"
     ]
    }
   ],
   "source": [
    "# let's run our function 5 times, as before, each time in its own thread\n",
    "\n",
    "def hello():\n",
    "    print('Hello!\\n', end='')     # don't add \\n to the end of print\n",
    "    \n",
    "for i in range(5):\n",
    "    t = threading.Thread(target=hello)\n",
    "    t.start()   "
   ]
  },
  {
   "cell_type": "code",
   "execution_count": 15,
   "metadata": {},
   "outputs": [
    {
     "name": "stdout",
     "output_type": "stream",
     "text": [
      "2 Hello!\n",
      "3 Hello!\n",
      "0 Hello!\n",
      "1 Hello!\n",
      "4 Hello!\n"
     ]
    }
   ],
   "source": [
    "# let's prove that we are running concurrently\n",
    "# how? We'll add time.sleep to our function call\n",
    "# then, we'll see if the functions run in order\n",
    "# we'll also add a number to the function call, so we can identify the threads\n",
    "\n",
    "import time\n",
    "import random\n",
    "\n",
    "def hello(n):\n",
    "    time.sleep(random.randint(0, 3))   # sleep 0-3 seconds\n",
    "    print(f'{n} Hello!\\n', end='')     # don't add \\n to the end of print\n",
    "    \n",
    "for i in range(5):\n",
    "    t = threading.Thread(target=hello, args=(i,))   # run the function with the argument of i\n",
    "    t.start()   "
   ]
  },
  {
   "cell_type": "markdown",
   "metadata": {},
   "source": [
    "# Things to know\n",
    "\n",
    "1. We can name our threads, which makes them easier to identify just pass \"name=\" when we create a new thread object.\n",
    "2. We can always get the currently running thread object from `threading.current_thread()`.  I can get the name of the current thread with `threading.current_thread().name`\n",
    "3. Because we're not running our function directly, but are rather outsourcing it to the threading system, our function will not return to us.  Any returned value will be ignored."
   ]
  },
  {
   "cell_type": "markdown",
   "metadata": {},
   "source": [
    "# Exercise: Hello and goodbye\n",
    "\n",
    "1. Write two functions, `hello` and `goodbye`, similar to my `hello` here -- it'll take an integer as an ID number, and it'll `time.sleep` for a random number of seconds.  (Keep it small!)\n",
    "2. Launch 5 threads for each of these functions.\n",
    "3. You should have a total of 10 lines printed out, 5 from `hello` and 5 from `goodbye`."
   ]
  },
  {
   "cell_type": "code",
   "execution_count": 17,
   "metadata": {},
   "outputs": [
    {
     "name": "stdout",
     "output_type": "stream",
     "text": [
      "0 Goodbye!\n",
      "3 Goodbye!\n",
      "2 Goodbye!\n",
      "1 Goodbye!\n",
      "4 Hello!\n",
      "4 Goodbye!\n",
      "0 Hello!\n",
      "1 Hello!\n",
      "2 Hello!\n",
      "3 Hello!\n"
     ]
    }
   ],
   "source": [
    "import threading\n",
    "import time\n",
    "import random\n",
    "\n",
    "def hello(n):\n",
    "    time.sleep(random.randint(0, 3))\n",
    "    print(f'{n} Hello!\\n', end='')\n",
    "    \n",
    "def goodbye(n):\n",
    "    time.sleep(random.randint(0, 3))\n",
    "    print(f'{n} Goodbye!\\n', end='')\n",
    "    \n",
    "for i in range(5):\n",
    "    t = threading.Thread(target=hello, args=(i,), name=f'hello-{i}')\n",
    "    t.start()\n",
    "    \n",
    "for i in range(5):\n",
    "    t = threading.Thread(target=goodbye, args=(i,), name=f'goodbye-{i}')\n",
    "    t.start() \n"
   ]
  },
  {
   "cell_type": "markdown",
   "metadata": {},
   "source": [
    "main thread\n",
    "hello-0\n",
    "hello-1\n",
    "hello-2\n",
    "hello-3\n",
    "hello-4\n",
    "goodbye-0\n",
    "goodbye-1\n",
    "goodbye-2\n",
    "goodbye-3\n",
    "goodbye-4\n"
   ]
  },
  {
   "cell_type": "markdown",
   "metadata": {},
   "source": [
    "# When do threads give up the CPU?\n",
    "\n",
    "1. When 5ms (about) pass.  Python will allow a thread to run as many bytecodes as it wants within that time slice. But as soon as the time is up, the current thread can finish the current bytecode, and then it gives up the CPU.\n",
    "2. Every time a thread handles I/O (input/output), it gives us control of the CPU to another thread. That's because I/O (disk/network/screen) takes so long compared with everything else, it's not worth keeping the CPU when we'll be waiting.\n",
    "\n",
    "When we say `print('a')` in Python, we're basically saying: (1) Print the string `a`, then (2) print the `'\\n'`.  Because these are two separate outputs to I/O, the thread often (not always, but often) gives up control."
   ]
  },
  {
   "cell_type": "code",
   "execution_count": 18,
   "metadata": {},
   "outputs": [
    {
     "name": "stdout",
     "output_type": "stream",
     "text": [
      "  6           0 LOAD_GLOBAL              0 (time)\n",
      "              2 LOAD_METHOD              1 (sleep)\n",
      "              4 LOAD_GLOBAL              2 (random)\n",
      "              6 LOAD_METHOD              3 (randint)\n",
      "              8 LOAD_CONST               1 (0)\n",
      "             10 LOAD_CONST               2 (3)\n",
      "             12 CALL_METHOD              2\n",
      "             14 CALL_METHOD              1\n",
      "             16 POP_TOP\n",
      "\n",
      "  7          18 LOAD_GLOBAL              4 (print)\n",
      "             20 LOAD_FAST                0 (n)\n",
      "             22 FORMAT_VALUE             0\n",
      "             24 LOAD_CONST               3 (' Hello!\\n')\n",
      "             26 BUILD_STRING             2\n",
      "             28 LOAD_CONST               4 ('')\n",
      "             30 LOAD_CONST               5 (('end',))\n",
      "             32 CALL_FUNCTION_KW         2\n",
      "             34 POP_TOP\n",
      "             36 LOAD_CONST               0 (None)\n",
      "             38 RETURN_VALUE\n"
     ]
    }
   ],
   "source": [
    "import dis  # disassembly module in Python \n",
    "\n",
    "dis.dis(hello)   # show me the bytecodes for the \"hello\" function"
   ]
  },
  {
   "cell_type": "code",
   "execution_count": null,
   "metadata": {},
   "outputs": [],
   "source": [
    "# for i in range(5):\n",
    "#     t1 = threading.Thread(target=hello, args=(i,))  # run the function with the argument of i\n",
    "#     t2 = threading.Thread(target=goodbye, args=(i,))   # run the function with the argument of i\n",
    "#     t1.start()\n",
    "#     t2.start()"
   ]
  },
  {
   "cell_type": "code",
   "execution_count": 20,
   "metadata": {},
   "outputs": [
    {
     "name": "stdout",
     "output_type": "stream",
     "text": [
      "1 Hello!\n",
      "3 Hello!\n",
      "0 Hello!\n",
      "4 Hello!\n",
      "2 Hello!\n",
      "*** DONE! ***\n"
     ]
    }
   ],
   "source": [
    "# let's print something to the user when we're done!\n",
    "\n",
    "import threading\n",
    "import time\n",
    "import random\n",
    "\n",
    "def hello(n):\n",
    "    time.sleep(random.randint(0, 3))   # sleep 0-3 seconds\n",
    "    print(f'{n} Hello!\\n', end='')     # don't add \\n to the end of print\n",
    "    \n",
    "for i in range(5):\n",
    "    t = threading.Thread(target=hello, args=(i,))   # run the function with the argument of i\n",
    "    t.start()   \n",
    "    \n",
    "time.sleep(7)   # don't do this!\n",
    "print('*** DONE! ***')    "
   ]
  },
  {
   "cell_type": "code",
   "execution_count": 22,
   "metadata": {},
   "outputs": [
    {
     "name": "stdout",
     "output_type": "stream",
     "text": [
      "0 Hello!\n",
      "1 Hello!\n",
      "2 Hello!\n",
      "3 Hello!\n",
      "4 Hello!\n",
      "*** DONE! ***\n"
     ]
    }
   ],
   "source": [
    "# what do I do, in order to wait for all of the threads to complete?\n",
    "# I can use \"join\"\n",
    "# \"join\" is a method we can run on a thread object\n",
    "# it means: I'll wait for you to finish\n",
    "\n",
    "import threading\n",
    "import time\n",
    "import random\n",
    "\n",
    "def hello(n):\n",
    "    time.sleep(random.randint(0, 3))   # sleep 0-3 seconds\n",
    "    print(f'{n} Hello!\\n', end='')     # don't add \\n to the end of print\n",
    "    \n",
    "for i in range(5):\n",
    "    t = threading.Thread(target=hello, args=(i,))   # run the function with the argument of i\n",
    "    t.start()   \n",
    "    t.join()   # wait for this thread to run, and then go create a new one\n",
    "    \n",
    "print('*** DONE! ***')    "
   ]
  },
  {
   "cell_type": "code",
   "execution_count": 25,
   "metadata": {},
   "outputs": [
    {
     "name": "stdout",
     "output_type": "stream",
     "text": [
      "0 Hello!\n",
      "2 Hello!\n",
      "3 Hello!\n",
      "\tNow joining hello-0\n",
      "\tNow joining hello-1\n",
      "4 Hello!\n",
      "1 Hello!\n",
      "\tNow joining hello-2\n",
      "\tNow joining hello-3\n",
      "\tNow joining hello-4\n",
      "*** DONE! ***\n"
     ]
    }
   ],
   "source": [
    "# what do I do, in order to wait for all of the threads to complete?\n",
    "# I can use \"join\"\n",
    "# \"join\" is a method we can run on a thread object\n",
    "# it means: I'll wait for you to finish\n",
    "\n",
    "# I'm going to put all threads in a list\n",
    "# then I'll iterate over that list, joining each thread (meaning: wait for the thread to finish)\n",
    "# when I'm done joining each thread, I know that they're all done\n",
    "\n",
    "import threading\n",
    "import time\n",
    "import random\n",
    "\n",
    "def hello(n):\n",
    "    time.sleep(random.randint(0, 3))   # sleep 0-3 seconds\n",
    "    print(f'{n} Hello!\\n', end='')     # don't add \\n to the end of print\n",
    "    \n",
    "all_threads = []\n",
    "for i in range(5):\n",
    "    t = threading.Thread(target=hello, args=(i,), name=f'hello-{i}')   # run the function with the argument of i\n",
    "    t.start()   \n",
    "    all_threads.append(t)\n",
    "    \n",
    "# Now go through each thread, and join it (i.e., wait for it)\n",
    "for one_thread in all_threads:\n",
    "    print(f'\\tNow joining {one_thread.name}')\n",
    "    one_thread.join()    # join blocks -- it hangs, waiting for the thread to finish\n",
    "    \n",
    "# by the time I reach line 28, I'm guaranteed that all of the threads are done\n",
    "print('*** DONE! ***')    "
   ]
  },
  {
   "cell_type": "code",
   "execution_count": 27,
   "metadata": {},
   "outputs": [
    {
     "name": "stdout",
     "output_type": "stream",
     "text": [
      "4 Hello!\n",
      "\tRemoved hello-4\n",
      "3 Hello!\n",
      "\tRemoved hello-3\n",
      "0 Hello!\n",
      "1 Hello!\n",
      "2 Hello!\n",
      "\tRemoved hello-2\n",
      "\tRemoved hello-0\n",
      "\tRemoved hello-1\n",
      "*** DONE! ***\n"
     ]
    }
   ],
   "source": [
    "# another way: invoke join with an argument, a float that tells join how long we're willing to wait\n",
    "# if that much time passes without the thread ending, we'll be able to go onto another thread\n",
    "\n",
    "\n",
    "import threading\n",
    "import time\n",
    "import random\n",
    "\n",
    "def hello(n):\n",
    "    time.sleep(random.randint(0, 3))   # sleep 0-3 seconds\n",
    "    print(f'{n} Hello!\\n', end='')     # don't add \\n to the end of print\n",
    "    \n",
    "all_threads = []\n",
    "for i in range(5):\n",
    "    t = threading.Thread(target=hello, args=(i,), name=f'hello-{i}')   # run the function with the argument of i\n",
    "    t.start()   \n",
    "    all_threads.append(t)\n",
    "    \n",
    "# go through all_threads as many times as we need, giving each\n",
    "# thread a chance to be joined.  When it's joined, we remove the \n",
    "# thread from the all_threads list\n",
    "\n",
    "while all_threads:   # meaning: so long as the list is non-empty\n",
    "    for one_thread in all_threads:\n",
    "        one_thread.join(0.1)       # wait 0.1 seconds for the thread to end\n",
    "        if not one_thread.is_alive():\n",
    "            print(f'\\tRemoved {one_thread.name}')\n",
    "            all_threads.remove(one_thread)\n",
    "    \n",
    "# BELOW HERE, we *know* that all threads have ended\n",
    "print('*** DONE! ***')    "
   ]
  },
  {
   "cell_type": "code",
   "execution_count": null,
   "metadata": {},
   "outputs": [],
   "source": []
  }
 ],
 "metadata": {
  "kernelspec": {
   "display_name": "Python 3",
   "language": "python",
   "name": "python3"
  },
  "language_info": {
   "codemirror_mode": {
    "name": "ipython",
    "version": 3
   },
   "file_extension": ".py",
   "mimetype": "text/x-python",
   "name": "python",
   "nbconvert_exporter": "python",
   "pygments_lexer": "ipython3",
   "version": "3.9.7"
  }
 },
 "nbformat": 4,
 "nbformat_minor": 4
}
