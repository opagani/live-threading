{
 "cells": [
  {
   "cell_type": "markdown",
   "metadata": {},
   "source": [
    "# Agenda\n",
    "\n",
    "1. Concurrency and parallelism in programming in general, and Python in particular\n",
    "2. Basic threads\n",
    "3. Joining threads\n",
    "4. Switching threads and the GIL\n",
    "5. Sharing data (and other resources)\n",
    "6. Producer-consumer \n",
    "7. Events and timers\n",
    "8. Multiprocessing\n",
    "9. `concurrent.futures` and making life easier for ourselves"
   ]
  },
  {
   "cell_type": "markdown",
   "metadata": {},
   "source": [
    "# Concurrency and parallelism in Python\n",
    "\n",
    "- Concurency means: I have several things that I want to be tracking at once, even if they're not necessarily executing at once.\n",
    "- Parallelism means: I have several things that I want to be tracking at once, *AND* they should also be executing at once.\n",
    "\n",
    "If you want true parallel execution on a computer, then you need multiple cores (processors).  But you'll probably have more processes running than cores anyway, which means that the computer needs to keep track of each process, swapping it in and out of memory to the CPUs.\n",
    "\n",
    "How can we have multiple things happen in our program, so that we can break a problem apart and deal with it using concurrency?\n",
    "- The oldest, and most traditional, way is to use *processes*.  The good news is that each process runs separately, with its own memory, and is independent of other processes.  This means that the computer can decide which core runs which process, and when.  The problem is that there's a lot of overhead to that -- it takes more memory, and switching requires more time + resources.\n",
    "- A newer way to do things is *threads*.  If your OS runs multiple processes, then your process can contain multiple threads. The idea is that the OS tells a process that it now has a chance to run, and then inside of that process, each thread gets a chance to run.  The advantage of threads is that they're much lighter weight, and thus it's easier to switch between them.  Plus, because they are in the same process, they can share memory.\n",
    "\n",
    "Threads weren't ever popular in the Unix world.  But they became super popular among Windows programmers and in the Java world.  The combination forced Unix people to admit that maybe threads aren't that bad."
   ]
  },
  {
   "cell_type": "markdown",
   "metadata": {},
   "source": [
    "# Simple example of threads\n",
    "\n",
    "To use threads in Python, we need:\n",
    "\n",
    "- the `threading` module\n",
    "- a function we want to run in a thread (i.e., not serially, but in parallel with the \"main thread\")\n"
   ]
  },
  {
   "cell_type": "code",
   "execution_count": 3,
   "metadata": {},
   "outputs": [
    {
     "name": "stdout",
     "output_type": "stream",
     "text": [
      "Hello!\n",
      "Hello!\n",
      "Hello!\n",
      "Hello!\n",
      "Hello!\n"
     ]
    }
   ],
   "source": [
    "# let's run the function serially -- meaning, our Python interpreter will consist of \n",
    "# one process and one thread.  It'll run our function 5 times.\n",
    "\n",
    "def hello():\n",
    "    print('Hello!')\n",
    "    \n",
    "for i in range(5):\n",
    "    hello()"
   ]
  },
  {
   "cell_type": "code",
   "execution_count": 5,
   "metadata": {},
   "outputs": [],
   "source": [
    "# now let's run our function 5 times, but each time we do that, we're going to \n",
    "# do so inside of a new thread.\n",
    "\n",
    "# Meaning: We're not going to run the function ourselves, directly.  We're going to\n",
    "# create a new Thread object, and hand it the function we want to run.  The \n",
    "# Thread object will run the function on our behalf inside of a new thread\n"
   ]
  },
  {
   "cell_type": "code",
   "execution_count": 6,
   "metadata": {},
   "outputs": [
    {
     "name": "stdout",
     "output_type": "stream",
     "text": [
      "Hello!\n"
     ]
    }
   ],
   "source": [
    "import threading     # the module we need to work with threads\n",
    "\n",
    "def hello():\n",
    "    print('Hello!')\n",
    "\n",
    "t = threading.Thread(target=hello)    # the function \"hello\" is the argument we pass to \"target\"\n",
    "t.start()                             # ask t to run our function in a new thread"
   ]
  },
  {
   "cell_type": "code",
   "execution_count": 12,
   "metadata": {},
   "outputs": [
    {
     "name": "stdout",
     "output_type": "stream",
     "text": [
      "Hello!\n",
      "Hello!\n",
      "Hello!\n",
      "Hello!\n",
      "Hello!\n"
     ]
    }
   ],
   "source": [
    "# let's run our function 5 times, as before, each time in its own thread\n",
    "\n",
    "def hello():\n",
    "    print('Hello!\\n', end='')     # don't add \\n to the end of print\n",
    "    \n",
    "for i in range(5):\n",
    "    t = threading.Thread(target=hello)\n",
    "    t.start()   "
   ]
  },
  {
   "cell_type": "code",
   "execution_count": 15,
   "metadata": {},
   "outputs": [
    {
     "name": "stdout",
     "output_type": "stream",
     "text": [
      "2 Hello!\n",
      "3 Hello!\n",
      "0 Hello!\n",
      "1 Hello!\n",
      "4 Hello!\n"
     ]
    }
   ],
   "source": [
    "# let's prove that we are running concurrently\n",
    "# how? We'll add time.sleep to our function call\n",
    "# then, we'll see if the functions run in order\n",
    "# we'll also add a number to the function call, so we can identify the threads\n",
    "\n",
    "import time\n",
    "import random\n",
    "\n",
    "def hello(n):\n",
    "    time.sleep(random.randint(0, 3))   # sleep 0-3 seconds\n",
    "    print(f'{n} Hello!\\n', end='')     # don't add \\n to the end of print\n",
    "    \n",
    "for i in range(5):\n",
    "    t = threading.Thread(target=hello, args=(i,))   # run the function with the argument of i\n",
    "    t.start()   "
   ]
  },
  {
   "cell_type": "markdown",
   "metadata": {},
   "source": [
    "# Things to know\n",
    "\n",
    "1. We can name our threads, which makes them easier to identify just pass \"name=\" when we create a new thread object.\n",
    "2. We can always get the currently running thread object from `threading.current_thread()`.  I can get the name of the current thread with `threading.current_thread().name`\n",
    "3. Because we're not running our function directly, but are rather outsourcing it to the threading system, our function will not return to us.  Any returned value will be ignored."
   ]
  },
  {
   "cell_type": "markdown",
   "metadata": {},
   "source": [
    "# Exercise: Hello and goodbye\n",
    "\n",
    "1. Write two functions, `hello` and `goodbye`, similar to my `hello` here -- it'll take an integer as an ID number, and it'll `time.sleep` for a random number of seconds.  (Keep it small!)\n",
    "2. Launch 5 threads for each of these functions.\n",
    "3. You should have a total of 10 lines printed out, 5 from `hello` and 5 from `goodbye`."
   ]
  },
  {
   "cell_type": "code",
   "execution_count": 17,
   "metadata": {},
   "outputs": [
    {
     "name": "stdout",
     "output_type": "stream",
     "text": [
      "0 Goodbye!\n",
      "3 Goodbye!\n",
      "2 Goodbye!\n",
      "1 Goodbye!\n",
      "4 Hello!\n",
      "4 Goodbye!\n",
      "0 Hello!\n",
      "1 Hello!\n",
      "2 Hello!\n",
      "3 Hello!\n"
     ]
    }
   ],
   "source": [
    "import threading\n",
    "import time\n",
    "import random\n",
    "\n",
    "def hello(n):\n",
    "    time.sleep(random.randint(0, 3))\n",
    "    print(f'{n} Hello!\\n', end='')\n",
    "    \n",
    "def goodbye(n):\n",
    "    time.sleep(random.randint(0, 3))\n",
    "    print(f'{n} Goodbye!\\n', end='')\n",
    "    \n",
    "for i in range(5):\n",
    "    t = threading.Thread(target=hello, args=(i,), name=f'hello-{i}')\n",
    "    t.start()\n",
    "    \n",
    "for i in range(5):\n",
    "    t = threading.Thread(target=goodbye, args=(i,), name=f'goodbye-{i}')\n",
    "    t.start() \n"
   ]
  },
  {
   "cell_type": "markdown",
   "metadata": {},
   "source": [
    "main thread\n",
    "hello-0\n",
    "hello-1\n",
    "hello-2\n",
    "hello-3\n",
    "hello-4\n",
    "goodbye-0\n",
    "goodbye-1\n",
    "goodbye-2\n",
    "goodbye-3\n",
    "goodbye-4\n"
   ]
  },
  {
   "cell_type": "markdown",
   "metadata": {},
   "source": [
    "# When do threads give up the CPU?\n",
    "\n",
    "1. When 5ms (about) pass.  Python will allow a thread to run as many bytecodes as it wants within that time slice. But as soon as the time is up, the current thread can finish the current bytecode, and then it gives up the CPU.\n",
    "2. Every time a thread handles I/O (input/output), it gives us control of the CPU to another thread. That's because I/O (disk/network/screen) takes so long compared with everything else, it's not worth keeping the CPU when we'll be waiting.\n",
    "\n",
    "When we say `print('a')` in Python, we're basically saying: (1) Print the string `a`, then (2) print the `'\\n'`.  Because these are two separate outputs to I/O, the thread often (not always, but often) gives up control."
   ]
  },
  {
   "cell_type": "code",
   "execution_count": 18,
   "metadata": {},
   "outputs": [
    {
     "name": "stdout",
     "output_type": "stream",
     "text": [
      "  6           0 LOAD_GLOBAL              0 (time)\n",
      "              2 LOAD_METHOD              1 (sleep)\n",
      "              4 LOAD_GLOBAL              2 (random)\n",
      "              6 LOAD_METHOD              3 (randint)\n",
      "              8 LOAD_CONST               1 (0)\n",
      "             10 LOAD_CONST               2 (3)\n",
      "             12 CALL_METHOD              2\n",
      "             14 CALL_METHOD              1\n",
      "             16 POP_TOP\n",
      "\n",
      "  7          18 LOAD_GLOBAL              4 (print)\n",
      "             20 LOAD_FAST                0 (n)\n",
      "             22 FORMAT_VALUE             0\n",
      "             24 LOAD_CONST               3 (' Hello!\\n')\n",
      "             26 BUILD_STRING             2\n",
      "             28 LOAD_CONST               4 ('')\n",
      "             30 LOAD_CONST               5 (('end',))\n",
      "             32 CALL_FUNCTION_KW         2\n",
      "             34 POP_TOP\n",
      "             36 LOAD_CONST               0 (None)\n",
      "             38 RETURN_VALUE\n"
     ]
    }
   ],
   "source": [
    "import dis  # disassembly module in Python \n",
    "\n",
    "dis.dis(hello)   # show me the bytecodes for the \"hello\" function"
   ]
  },
  {
   "cell_type": "code",
   "execution_count": null,
   "metadata": {},
   "outputs": [],
   "source": [
    "# for i in range(5):\n",
    "#     t1 = threading.Thread(target=hello, args=(i,))  # run the function with the argument of i\n",
    "#     t2 = threading.Thread(target=goodbye, args=(i,))   # run the function with the argument of i\n",
    "#     t1.start()\n",
    "#     t2.start()"
   ]
  },
  {
   "cell_type": "code",
   "execution_count": 20,
   "metadata": {},
   "outputs": [
    {
     "name": "stdout",
     "output_type": "stream",
     "text": [
      "1 Hello!\n",
      "3 Hello!\n",
      "0 Hello!\n",
      "4 Hello!\n",
      "2 Hello!\n",
      "*** DONE! ***\n"
     ]
    }
   ],
   "source": [
    "# let's print something to the user when we're done!\n",
    "\n",
    "import threading\n",
    "import time\n",
    "import random\n",
    "\n",
    "def hello(n):\n",
    "    time.sleep(random.randint(0, 3))   # sleep 0-3 seconds\n",
    "    print(f'{n} Hello!\\n', end='')     # don't add \\n to the end of print\n",
    "    \n",
    "for i in range(5):\n",
    "    t = threading.Thread(target=hello, args=(i,))   # run the function with the argument of i\n",
    "    t.start()   \n",
    "    \n",
    "time.sleep(7)   # don't do this!\n",
    "print('*** DONE! ***')    "
   ]
  },
  {
   "cell_type": "code",
   "execution_count": 22,
   "metadata": {},
   "outputs": [
    {
     "name": "stdout",
     "output_type": "stream",
     "text": [
      "0 Hello!\n",
      "1 Hello!\n",
      "2 Hello!\n",
      "3 Hello!\n",
      "4 Hello!\n",
      "*** DONE! ***\n"
     ]
    }
   ],
   "source": [
    "# what do I do, in order to wait for all of the threads to complete?\n",
    "# I can use \"join\"\n",
    "# \"join\" is a method we can run on a thread object\n",
    "# it means: I'll wait for you to finish\n",
    "\n",
    "import threading\n",
    "import time\n",
    "import random\n",
    "\n",
    "def hello(n):\n",
    "    time.sleep(random.randint(0, 3))   # sleep 0-3 seconds\n",
    "    print(f'{n} Hello!\\n', end='')     # don't add \\n to the end of print\n",
    "    \n",
    "for i in range(5):\n",
    "    t = threading.Thread(target=hello, args=(i,))   # run the function with the argument of i\n",
    "    t.start()   \n",
    "    t.join()   # wait for this thread to run, and then go create a new one\n",
    "    \n",
    "print('*** DONE! ***')    "
   ]
  },
  {
   "cell_type": "code",
   "execution_count": 25,
   "metadata": {},
   "outputs": [
    {
     "name": "stdout",
     "output_type": "stream",
     "text": [
      "0 Hello!\n",
      "2 Hello!\n",
      "3 Hello!\n",
      "\tNow joining hello-0\n",
      "\tNow joining hello-1\n",
      "4 Hello!\n",
      "1 Hello!\n",
      "\tNow joining hello-2\n",
      "\tNow joining hello-3\n",
      "\tNow joining hello-4\n",
      "*** DONE! ***\n"
     ]
    }
   ],
   "source": [
    "# what do I do, in order to wait for all of the threads to complete?\n",
    "# I can use \"join\"\n",
    "# \"join\" is a method we can run on a thread object\n",
    "# it means: I'll wait for you to finish\n",
    "\n",
    "# I'm going to put all threads in a list\n",
    "# then I'll iterate over that list, joining each thread (meaning: wait for the thread to finish)\n",
    "# when I'm done joining each thread, I know that they're all done\n",
    "\n",
    "import threading\n",
    "import time\n",
    "import random\n",
    "\n",
    "def hello(n):\n",
    "    time.sleep(random.randint(0, 3))   # sleep 0-3 seconds\n",
    "    print(f'{n} Hello!\\n', end='')     # don't add \\n to the end of print\n",
    "    \n",
    "all_threads = []\n",
    "for i in range(5):\n",
    "    t = threading.Thread(target=hello, args=(i,), name=f'hello-{i}')   # run the function with the argument of i\n",
    "    t.start()   \n",
    "    all_threads.append(t)\n",
    "    \n",
    "# Now go through each thread, and join it (i.e., wait for it)\n",
    "for one_thread in all_threads:\n",
    "    print(f'\\tNow joining {one_thread.name}')\n",
    "    one_thread.join()    # join blocks -- it hangs, waiting for the thread to finish\n",
    "    \n",
    "# by the time I reach line 28, I'm guaranteed that all of the threads are done\n",
    "print('*** DONE! ***')    "
   ]
  },
  {
   "cell_type": "code",
   "execution_count": 29,
   "metadata": {},
   "outputs": [
    {
     "name": "stdout",
     "output_type": "stream",
     "text": [
      "0 Hello!\n",
      "2 Hello!\n",
      "\tRemoved hello-0\n",
      "\tRemoved hello-2\n",
      "3 Hello!\n",
      "1 Hello!\n",
      "4 Hello!\n",
      "\tRemoved hello-4\n",
      "\tRemoved hello-1\n",
      "\tRemoved hello-3\n",
      "*** DONE! ***\n"
     ]
    }
   ],
   "source": [
    "# as we create each thread (and launch our function in it), we store the thread in all_threads\n",
    "# then, after our threads have launched, we repeatedly iterate through all_threads\n",
    "# with each iteration over all_threads, we give one_thread the chance to say, \"Yes, I'm done!\"\n",
    "#     we do that with \"join\"\n",
    "# but we don't want to give the thread forever to tell us it's done\n",
    "# so we give it 0.1 seconds to tell us that.  \n",
    "#     if the thread is done, then we remove it from all_threads\n",
    "#     if the thread is NOT done, we go onto the next one\n",
    "# when all_threads is empty, we stop iterating over it\n",
    "\n",
    "import threading\n",
    "import time\n",
    "import random\n",
    "\n",
    "# define our function\n",
    "def hello(n):\n",
    "    time.sleep(random.randint(0, 3))   # sleep 0-3 seconds\n",
    "    print(f'{n} Hello!\\n', end='')     # don't add \\n to the end of print\n",
    "    \n",
    "# launch our threads\n",
    "all_threads = []\n",
    "for i in range(5):\n",
    "    t = threading.Thread(target=hello, args=(i,), name=f'hello-{i}')   # run the function with the argument of i\n",
    "    t.start()   \n",
    "    all_threads.append(t)\n",
    "    \n",
    "# wait for each thread to finish\n",
    "while all_threads:   # meaning: so long as the list is non-empty\n",
    "    for one_thread in all_threads:\n",
    "        one_thread.join(0.1)           # wait 0.1 seconds to know if the thread is alive or dead\n",
    "        if not one_thread.is_alive():  # if the thread died, then let's remove it from the list\n",
    "            print(f'\\tRemoved {one_thread.name}')\n",
    "            all_threads.remove(one_thread)        # if the thread has finished, then we remove it from the list\n",
    "    \n",
    "# BELOW HERE, we *know* that all threads have ended\n",
    "print('*** DONE! ***')    "
   ]
  },
  {
   "cell_type": "markdown",
   "metadata": {},
   "source": [
    "# Exercise: Vowel counts \n",
    "\n",
    "1. Write a function that takes a filename (a string) as an argument. In the function, it'll create a dictionary for each of the vowels in English (a, e, i, o, and u), with a value of 0. The function should then iterate over every character in the file, and count how many of each vowel there is.\n",
    "2. Get five filenames for text files on your system, and put them in a list.\n",
    "3. Launch a new thread for each of the files in the list of filenames.\n",
    "4. Join the threads together, and indicate that things are done."
   ]
  },
  {
   "cell_type": "code",
   "execution_count": 31,
   "metadata": {},
   "outputs": [],
   "source": [
    "def vowel_counts(filename):\n",
    "    counts = dict.fromkeys('aeiou', 0)\n",
    "    for one_line in open(filename):\n",
    "        for one_character in one_line.lower():\n",
    "            if one_character in counts:\n",
    "                counts[one_character] += 1\n",
    "    print(f'{filename}: {counts}')"
   ]
  },
  {
   "cell_type": "code",
   "execution_count": 32,
   "metadata": {},
   "outputs": [
    {
     "name": "stdout",
     "output_type": "stream",
     "text": [
      "/etc/passwd: {'a': 481, 'e': 593, 'i': 333, 'o': 254, 'u': 184}\n"
     ]
    }
   ],
   "source": [
    "vowel_counts('/etc/passwd')"
   ]
  },
  {
   "cell_type": "code",
   "execution_count": 34,
   "metadata": {},
   "outputs": [
    {
     "name": "stdout",
     "output_type": "stream",
     "text": [
      "/etc/passwd: {'a': 481, 'e': 593, 'i': 333, 'o': 254, 'u': 184}\n",
      "Killing vowel_counts-/etc/passwd\n",
      "/Users/reuven/.zshrc: {'a': 60, 'e': 102, 'i': 63, 'o': 79, 'u': 21}\n",
      "Killing vowel_counts-/Users/reuven/.zshrc\n",
      "Done!\n"
     ]
    }
   ],
   "source": [
    "import threading\n",
    "\n",
    "filenames = ['/etc/passwd', '/Users/reuven/.zshrc']\n",
    "\n",
    "# launching threads for our files\n",
    "all_threads = []\n",
    "for one_filename in filenames:\n",
    "    t = threading.Thread(target=vowel_counts, args=(one_filename,), name=f'vowel_counts-{one_filename}')\n",
    "    all_threads.append(t)\n",
    "    t.start()   \n",
    "    \n",
    "# join the threads -- meaning, wait for them to finish\n",
    "while all_threads:\n",
    "    for one_thread in all_threads:\n",
    "        one_thread.join(0.01)\n",
    "        if not one_thread.is_alive():\n",
    "            print(f'Killing {one_thread.name}')\n",
    "            all_threads.remove(one_thread)\n",
    "            \n",
    "print(f'Done!')            "
   ]
  },
  {
   "cell_type": "code",
   "execution_count": null,
   "metadata": {},
   "outputs": [],
   "source": [
    "one_thread.join()     # no number -- we will wait, possibly forever, for one_thread to end\n",
    "one_thread.join(0.1)  # we will wait up to 0.1s for one_thread to end... to find out if one_thread is dead, \n",
    "                      #   we need to ask if it .is_alive()"
   ]
  },
  {
   "cell_type": "code",
   "execution_count": 40,
   "metadata": {},
   "outputs": [
    {
     "name": "stdout",
     "output_type": "stream",
     "text": [
      "/etc/passwd: {'a': 481, 'e': 593, 'i': 333, 'o': 254, 'u': 184}\n",
      "/Users/reuven/.zshrc: {'a': 60, 'e': 102, 'i': 63, 'o': 79, 'u': 21}\n",
      "Done!\n"
     ]
    }
   ],
   "source": [
    "# another way to iterate over our threads\n",
    "\n",
    "import threading\n",
    "\n",
    "filenames = ['/etc/passwd', '/Users/reuven/.zshrc']\n",
    "\n",
    "pre_run_thread_count = threading.active_count()\n",
    "\n",
    "# launching threads for our files\n",
    "for one_filename in filenames:\n",
    "    t = threading.Thread(target=vowel_counts, args=(one_filename,), name=f'vowel_counts-{one_filename}')\n",
    "    t.start()       \n",
    "\n",
    "while threading.active_count() > pre_run_thread_count:  # so long as we have more than just our main thread\n",
    "    for one_thread in threading.enumerate():\n",
    "\n",
    "        # you cannot join the main thread to itself\n",
    "        if one_thread == threading.current_thread():\n",
    "            continue\n",
    "\n",
    "        one_thread.join(0.01)\n",
    "            \n",
    "print(f'Done!')            "
   ]
  },
  {
   "cell_type": "markdown",
   "metadata": {},
   "source": [
    "# Switching and the GIL\n",
    "\n",
    "Python gives each thread a chance to run of 0.05s each time. This means that however many bytecodes our thread can get through during that time, it will.  (This is approximate; Python might give slightly longer than that to a thread.)\n",
    "\n",
    "You can find out how long each thread has by asking `sys.getswitchinterval()`.  You can even set it to something different (if you're really daring!) by running `sys.setswitchinterval()`.  Also, whenever you use I/O, Python automatically gives other threads a chance to run.\n",
    "\n",
    "This means that your thread might lose control of the CPU between any two statements you wrote.  Or, sometimes, inside of one statement, if that statement includes more than one bytecode.\n",
    "\n",
    "The other (and famous/infamous) issue with Python threads is the GIL (the global interpreter lock).  The GIL ensures that only one thread runs at a time. That's right: Even if you have many cores and many threads, and even if each thread is assigned to a separate core, *ONLY ONE THREAD IS RUNNING AT A TIME*.\n",
    "\n",
    "The GIL is a mechanism that ensures only one thread can be executing Python bytecode at a given time.  Why do this? Because at the core of Python are data structures that must be synchronized across threads -- especially object reference counts.\n",
    "\n",
    "This horrifies many people with threading experience in other languages.\n",
    "\n",
    "If your threaded program is IO-bound -- meaning, it is spending lots of time waiting for I/O (e.g., screen, network, or filesystem) then Python threads aren't so bad (in this way).\n",
    "\n",
    "But if your threaded program is CPU bound -- meaning, it's trying to crunch lots of data, and calculate lots of things, such that CPU execution speed is the reason why it's fast or slow -- then threads are almost certainly a TERRIBLE idea."
   ]
  },
  {
   "cell_type": "markdown",
   "metadata": {},
   "source": [
    "# What are the real problems with threads, then?  Shared data\n",
    "\n",
    "Remember: Threads share global variables. That makes them lightweight and efficient. But you have to be really, really careful when you're working with shared, mutable data."
   ]
  },
  {
   "cell_type": "code",
   "execution_count": 44,
   "metadata": {},
   "outputs": [
    {
     "name": "stdout",
     "output_type": "stream",
     "text": [
      "count 1 appeared 10 times\n"
     ]
    }
   ],
   "source": [
    "from collections import Counter\n",
    "\n",
    "element_count = 10              # how many elements are in our list?\n",
    "numbers = [0] * element_count   # create a list of all 0s, with element_count items\n",
    "index = 0                       # start our index at 0\n",
    "\n",
    "def increment_all_elements():\n",
    "    global index    # I want to be able to modify index from within my function\n",
    "    while True:\n",
    "        if index >= element_count:\n",
    "            break\n",
    "            \n",
    "        numbers[index] += 1     # add 1 to the element at index\n",
    "        index += 1          # increment the index\n",
    "        \n",
    "increment_all_elements()\n",
    "\n",
    "# how many times does each number appear in our list, numbers?\n",
    "\n",
    "for key, value in Counter(numbers).items():\n",
    "    print(f'count {key} appeared {value} times')"
   ]
  },
  {
   "cell_type": "code",
   "execution_count": 47,
   "metadata": {},
   "outputs": [
    {
     "name": "stderr",
     "output_type": "stream",
     "text": [
      "Exception in thread Thread-85:\n",
      "Traceback (most recent call last):\n",
      "  File \"/usr/local/Cellar/python@3.9/3.9.7/Frameworks/Python.framework/Versions/3.9/lib/python3.9/threading.py\", line 973, in _bootstrap_inner\n",
      "    self.run()\n",
      "  File \"/usr/local/Cellar/python@3.9/3.9.7/Frameworks/Python.framework/Versions/3.9/lib/python3.9/threading.py\", line 910, in run\n",
      "    self._target(*self._args, **self._kwargs)\n",
      "  File \"<ipython-input-47-eadc512ed50b>\", line 19, in increment_all_elements\n",
      "IndexError: list index out of range\n"
     ]
    },
    {
     "name": "stdout",
     "output_type": "stream",
     "text": [
      "count 1 appeared 7980898 times\n",
      "count 2 appeared 1982903 times\n",
      "count 0 appeared 33 times\n",
      "count 3 appeared 36166 times\n"
     ]
    }
   ],
   "source": [
    "# why do this serially?\n",
    "# I can fire up a few threads\n",
    "# each thread can increment a few of the elements in the list\n",
    "\n",
    "import threading\n",
    "from collections import Counter\n",
    "\n",
    "element_count = 10_000_000      # how many elements are in our list?\n",
    "thread_count = 2                # how many threads do I want to share the load?\n",
    "numbers = [0] * element_count   # create a list of all 0s, with element_count items\n",
    "index = 0                       # start our index at 0\n",
    "\n",
    "def increment_all_elements():\n",
    "    global index    # I want to be able to modify index from within my function\n",
    "    while True:\n",
    "        if index >= element_count:\n",
    "            break\n",
    "            \n",
    "        numbers[index] += 1     # add 1 to the element at index\n",
    "        index += 1              # increment the index\n",
    "        \n",
    "all_threads = []\n",
    "for i in range(thread_count):\n",
    "    t = threading.Thread(target=increment_all_elements)\n",
    "    all_threads.append(t)\n",
    "    t.start()\n",
    "\n",
    "for one_thread in all_threads:\n",
    "    one_thread.join()\n",
    "\n",
    "# how many times does each number appear in our list, numbers?\n",
    "for key, value in Counter(numbers).items():\n",
    "    print(f'count {key} appeared {value} times')"
   ]
  },
  {
   "cell_type": "markdown",
   "metadata": {},
   "source": [
    "# What can we do?\n",
    "\n",
    "One answer: Lock a region of our code.  Make sure that only one thread can execute within part of our code. Even if the currently executing (locking) thread loses the CPU, other threads won't be allowed to execute that code.  This will solve the problem... and lead to others."
   ]
  },
  {
   "cell_type": "code",
   "execution_count": 49,
   "metadata": {},
   "outputs": [
    {
     "name": "stdout",
     "output_type": "stream",
     "text": [
      "count 1 appeared 10000000 times\n"
     ]
    }
   ],
   "source": [
    "# we can use threading.Lock -- a class whose instances ensure this kind of locking\n",
    "\n",
    "import threading\n",
    "from collections import Counter\n",
    "\n",
    "increment_lock = threading.Lock()\n",
    "element_count = 10_000_000      # how many elements are in our list?\n",
    "thread_count = 2                # how many threads do I want to share the load?\n",
    "numbers = [0] * element_count   # create a list of all 0s, with element_count items\n",
    "index = 0                       # start our index at 0\n",
    "\n",
    "def increment_all_elements():\n",
    "    global index    # I want to be able to modify index from within my function\n",
    "    while True:\n",
    "        with increment_lock:   # only one thread can execute lines 15-20 at a time\n",
    "            if index >= element_count:\n",
    "                break\n",
    "\n",
    "            numbers[index] += 1     # add 1 to the element at index\n",
    "            index += 1              # increment the index\n",
    "        \n",
    "all_threads = []\n",
    "for i in range(thread_count):\n",
    "    t = threading.Thread(target=increment_all_elements)\n",
    "    all_threads.append(t)\n",
    "    t.start()\n",
    "\n",
    "for one_thread in all_threads:\n",
    "    one_thread.join()\n",
    "\n",
    "# how many times does each number appear in our list, numbers?\n",
    "for key, value in Counter(numbers).items():\n",
    "    print(f'count {key} appeared {value} times')"
   ]
  },
  {
   "cell_type": "markdown",
   "metadata": {},
   "source": [
    "# Next up\n",
    "\n",
    "1. queues (and how they solve two problems, sometimes)\n",
    "2. producer-consumer systems\n",
    "3. events and timers"
   ]
  },
  {
   "cell_type": "markdown",
   "metadata": {},
   "source": [
    "# Queues\n",
    "\n",
    "The only truly thread-safe data structure in Python is the `Queue` class, which lives in the `queue` module in the standard library.  Yes, it's `queue.Queue` (notice the capitalization).    A queue is also known as as FIFO, short for \"first in, first out.\"\n",
    "\n",
    "A `Queue` object has a few methods:\n",
    "- `put` adds a new object to its end\n",
    "- `get` retrieves the first object at its start\n",
    "\n",
    "In a threaded program, you can create a global `Queue` object that is shared across all threads. Each thread, instead of printing to the screen or returning a value (which would be ignored), can `put` its return value onto a `Queue`.\n",
    "\n",
    "Then, when our threads are all done with their work, we can join them and retrieve items from the queue.\n",
    "\n"
   ]
  },
  {
   "cell_type": "code",
   "execution_count": null,
   "metadata": {},
   "outputs": [],
   "source": []
  }
 ],
 "metadata": {
  "kernelspec": {
   "display_name": "Python 3",
   "language": "python",
   "name": "python3"
  },
  "language_info": {
   "codemirror_mode": {
    "name": "ipython",
    "version": 3
   },
   "file_extension": ".py",
   "mimetype": "text/x-python",
   "name": "python",
   "nbconvert_exporter": "python",
   "pygments_lexer": "ipython3",
   "version": "3.9.7"
  }
 },
 "nbformat": 4,
 "nbformat_minor": 4
}
