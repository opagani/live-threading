{
 "cells": [
  {
   "cell_type": "markdown",
   "metadata": {},
   "source": [
    "# Agenda\n",
    "\n",
    "1. Concurrency and parallelism in programming in general, and Python in particular\n",
    "2. Basic threads\n",
    "3. Joining threads\n",
    "4. Switching threads and the GIL\n",
    "5. Sharing data (and other resources)\n",
    "6. Producer-consumer \n",
    "7. Events and timers\n",
    "8. Multiprocessing\n",
    "9. `concurrent.futures` and making life easier for ourselves"
   ]
  },
  {
   "cell_type": "markdown",
   "metadata": {},
   "source": [
    "# Concurrency and parallelism in Python\n",
    "\n",
    "- Concurency means: I have several things that I want to be tracking at once, even if they're not necessarily executing at once.\n",
    "- Parallelism means: I have several things that I want to be tracking at once, *AND* they should also be executing at once.\n",
    "\n",
    "If you want true parallel execution on a computer, then you need multiple cores (processors).  But you'll probably have more processes running than cores anyway, which means that the computer needs to keep track of each process, swapping it in and out of memory to the CPUs.\n",
    "\n",
    "How can we have multiple things happen in our program, so that we can break a problem apart and deal with it using concurrency?\n",
    "- The oldest, and most traditional, way is to use *processes*.  The good news is that each process runs separately, with its own memory, and is independent of other processes.  This means that the computer can decide which core runs which process, and when.  The problem is that there's a lot of overhead to that -- it takes more memory, and switching requires more time + resources.\n",
    "- A newer way to do things is *threads*.  If your OS runs multiple processes, then your process can contain multiple threads. The idea is that the OS tells a process that it now has a chance to run, and then inside of that process, each thread gets a chance to run.  The advantage of threads is that they're much lighter weight, and thus it's easier to switch between them.  Plus, because they are in the same process, they can share memory.\n",
    "\n",
    "Threads weren't ever popular in the Unix world.  But they became super popular among Windows programmers and in the Java world.  The combination forced Unix people to admit that maybe threads aren't that bad."
   ]
  },
  {
   "cell_type": "markdown",
   "metadata": {},
   "source": [
    "# Simple example of threads\n",
    "\n",
    "To use threads in Python, we need:\n",
    "\n",
    "- the `threading` module\n",
    "- a function we want to run in a thread (i.e., not serially, but in parallel with the \"main thread\")\n"
   ]
  },
  {
   "cell_type": "code",
   "execution_count": 3,
   "metadata": {},
   "outputs": [
    {
     "name": "stdout",
     "output_type": "stream",
     "text": [
      "Hello!\n",
      "Hello!\n",
      "Hello!\n",
      "Hello!\n",
      "Hello!\n"
     ]
    }
   ],
   "source": [
    "# let's run the function serially -- meaning, our Python interpreter will consist of \n",
    "# one process and one thread.  It'll run our function 5 times.\n",
    "\n",
    "def hello():\n",
    "    print('Hello!')\n",
    "    \n",
    "for i in range(5):\n",
    "    hello()"
   ]
  },
  {
   "cell_type": "code",
   "execution_count": 5,
   "metadata": {},
   "outputs": [],
   "source": [
    "# now let's run our function 5 times, but each time we do that, we're going to \n",
    "# do so inside of a new thread.\n",
    "\n",
    "# Meaning: We're not going to run the function ourselves, directly.  We're going to\n",
    "# create a new Thread object, and hand it the function we want to run.  The \n",
    "# Thread object will run the function on our behalf inside of a new thread\n"
   ]
  },
  {
   "cell_type": "code",
   "execution_count": 6,
   "metadata": {},
   "outputs": [
    {
     "name": "stdout",
     "output_type": "stream",
     "text": [
      "Hello!\n"
     ]
    }
   ],
   "source": [
    "import threading     # the module we need to work with threads\n",
    "\n",
    "def hello():\n",
    "    print('Hello!')\n",
    "\n",
    "t = threading.Thread(target=hello)    # the function \"hello\" is the argument we pass to \"target\"\n",
    "t.start()                             # ask t to run our function in a new thread"
   ]
  },
  {
   "cell_type": "code",
   "execution_count": 12,
   "metadata": {},
   "outputs": [
    {
     "name": "stdout",
     "output_type": "stream",
     "text": [
      "Hello!\n",
      "Hello!\n",
      "Hello!\n",
      "Hello!\n",
      "Hello!\n"
     ]
    }
   ],
   "source": [
    "# let's run our function 5 times, as before, each time in its own thread\n",
    "\n",
    "def hello():\n",
    "    print('Hello!\\n', end='')     # don't add \\n to the end of print\n",
    "    \n",
    "for i in range(5):\n",
    "    t = threading.Thread(target=hello)\n",
    "    t.start()   "
   ]
  },
  {
   "cell_type": "code",
   "execution_count": null,
   "metadata": {},
   "outputs": [],
   "source": [
    "# let's prove that we are running concurrently\n",
    "# how? We'll add time.sleep to our function call"
   ]
  }
 ],
 "metadata": {
  "kernelspec": {
   "display_name": "Python 3",
   "language": "python",
   "name": "python3"
  },
  "language_info": {
   "codemirror_mode": {
    "name": "ipython",
    "version": 3
   },
   "file_extension": ".py",
   "mimetype": "text/x-python",
   "name": "python",
   "nbconvert_exporter": "python",
   "pygments_lexer": "ipython3",
   "version": "3.9.7"
  }
 },
 "nbformat": 4,
 "nbformat_minor": 4
}
