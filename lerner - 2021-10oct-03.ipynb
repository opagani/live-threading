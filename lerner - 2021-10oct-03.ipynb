{
 "cells": [
  {
   "cell_type": "markdown",
   "metadata": {},
   "source": [
    "# Agenda\n",
    "\n",
    "1. Concurrency and parallelism in programming in general, and Python in particular\n",
    "2. Basic threads\n",
    "3. Joining threads\n",
    "4. Switching threads and the GIL\n",
    "5. Sharing data (and other resources)\n",
    "6. Producer-consumer \n",
    "7. Events and timers\n",
    "8. Multiprocessing\n",
    "9. `concurrent.futures` and making life easier for ourselves"
   ]
  },
  {
   "cell_type": "markdown",
   "metadata": {},
   "source": [
    "# Concurrency and parallelism in Python\n",
    "\n",
    "- Concurency means: I have several things that I want to be tracking at once, even if they're not necessarily executing at once.\n",
    "- Parallelism means: I have several things that I want to be tracking at once, *AND* they should also be executing at once.\n",
    "\n",
    "If you want true parallel execution on a computer, then you need multiple cores (processors).  But you'll probably have more processes running than cores anyway, which means that the computer needs to keep track of each process, swapping it in and out of memory to the CPUs.\n",
    "\n",
    "How can we have multiple things happen in our program, so that we can break a problem apart and deal with it using concurrency?\n",
    "- The oldest, and most traditional, way is to use *processes*.  The good news is that each process runs separately, with its own memory, and is independent of other processes.  This means that the computer can decide which core runs which process, and when.  The problem is that there's a lot of overhead to that -- it takes more memory, and switching requires more time + resources.\n",
    "- A newer way to do things is *threads*.  If your OS runs multiple processes, then your process can contain multiple threads. The idea is that the OS tells a process that it now has a chance to run, and then inside of that process"
   ]
  },
  {
   "cell_type": "code",
   "execution_count": null,
   "metadata": {},
   "outputs": [],
   "source": []
  }
 ],
 "metadata": {
  "kernelspec": {
   "display_name": "Python 3",
   "language": "python",
   "name": "python3"
  },
  "language_info": {
   "codemirror_mode": {
    "name": "ipython",
    "version": 3
   },
   "file_extension": ".py",
   "mimetype": "text/x-python",
   "name": "python",
   "nbconvert_exporter": "python",
   "pygments_lexer": "ipython3",
   "version": "3.9.7"
  }
 },
 "nbformat": 4,
 "nbformat_minor": 4
}
